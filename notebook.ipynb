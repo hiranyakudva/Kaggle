{
  "metadata": {
    "kernelspec": {
      "display_name": "R",
      "language": "R",
      "name": "ir"
    },
    "language_info": {
      "codemirror_mode": "r",
      "file_extension": ".r",
      "mimetype": "text/x-r-source",
      "name": "R",
      "pygments_lexer": "r",
      "version": "3.3.3"
    }
  },
  "nbformat": 4,
  "nbformat_minor": 0,
  "cells": [
    {
      "cell_type": "markdown",
      "source": "WARNING!!\n\nYou will see a lot of bar plots. Two reasons:\n\n 1. I am a big fan of bar plots.\n 2. I am exploring ggplot2  for making bar plots",
      "metadata": {}
    },
    {
      "cell_type": "code",
      "source": "# This R environment comes with all of CRAN preinstalled, as well as many other helpful packages\n# The environment is defined by the kaggle/rstats docker image: https://github.com/kaggle/docker-rstats\n# For example, here's several helpful packages to load in \n\nlibrary(ggplot2) # Data visualization\nlibrary(reshape)\nlibrary(readr) # CSV file I/O, e.g. the read_csv function\n\n# Input data files are available in the \"../input/\" directory.\n# For example, running this (by clicking run or pressing Shift+Enter) will list the files in the input directory\n\nsystem(\"ls ../input\")\n\n# Any results you write to the current directory are saved as output.",
      "execution_count": null,
      "outputs": [],
      "metadata": {}
    },
    {
      "cell_type": "code",
      "source": "df <- read.csv(\"../input/HR_comma_sep.csv\")\n# Look at the data\nhead(df)\nsummary(df)\nstr(df)\nsum(is.na(df))",
      "execution_count": null,
      "outputs": [],
      "metadata": {}
    },
    {
      "cell_type": "code",
      "source": "# Thankfully there is no missing data, we can continue with our exploration\n# Create some plots to understand the data better",
      "execution_count": null,
      "outputs": [],
      "metadata": {}
    },
    {
      "cell_type": "code",
      "source": "# Group column 'left' by 'sales' and find the percentage of people belonging to each group\nplot1 <- aggregate(list(Percentage_left=df$left), list(Department=df$sales), function (x) sum(x)/sum(df$left)*100)\nggplot(plot1, aes(Department, Percentage_left, fill = Department)) + geom_bar(stat=\"identity\") + \n\t\ttheme(axis.text.x=element_text(angle=90,hjust=1,vjust=0.5))",
      "execution_count": null,
      "outputs": [],
      "metadata": {}
    },
    {
      "cell_type": "code",
      "source": "# We see that the highest number of people who left belong to Sales department (28.3%)\n# followed by technical (19.5%) and support (15.5%)\n\nsum(df$left[df$sales=='sales'])/length(df$left[df$sales=='sales'])*100\nsum(df$left[df$sales=='technical'])/length(df$left[df$sales=='technical'])*100\nsum(df$left[df$sales=='support'])/length(df$left[df$sales=='support'])*100",
      "execution_count": null,
      "outputs": [],
      "metadata": {}
    },
    {
      "cell_type": "code",
      "source": "# 24.5% from sales, 25.6% from techical and 24.9% from support left.\n# let's explore other variables too\n# Group column 'left' by 'salary' and find the percentage of people belonging to each group\nplot2 <- aggregate(list(Percentage_left=df$left), list(Salary=df$salary), function (x) sum(x)/sum(df$left)*100)\nggplot(plot2, aes(Salary, Percentage_left, fill = Salary)) + geom_bar(stat=\"identity\") + \n\t\ttheme(axis.text.x=element_text(angle=90,hjust=1,vjust=0.5))",
      "execution_count": null,
      "outputs": [],
      "metadata": {}
    },
    {
      "cell_type": "code",
      "source": "# 60.8% of people who left had low salary\n\nsum(df$left[df$salary=='low'])/length(df$left[df$salary=='low'])*100",
      "execution_count": null,
      "outputs": [],
      "metadata": {}
    },
    {
      "cell_type": "code",
      "source": "# 29.7% of people who have low salary, left\n# Low salary could be one of the reasons why people are leaving",
      "execution_count": null,
      "outputs": [],
      "metadata": {}
    },
    {
      "cell_type": "code",
      "source": "# Group column 'left' by 'number_projects' and find the percentage of people belonging to each group\nplot3 <- aggregate(list(Percentage_left=df$left), list(Projects=df$number_project), function (x) sum(x)/sum(df$left)*100)\nggplot(plot3, aes(Projects, Percentage_left, fill = factor(Projects))) + geom_bar(stat=\"identity\") + \n\t\tlabs(fill=\"Projects\")  + theme(axis.text.x=element_text(angle=90,hjust=1,vjust=0.5))",
      "execution_count": null,
      "outputs": [],
      "metadata": {}
    },
    {
      "cell_type": "code",
      "source": "# 43.9% of people left after just two projects, why is that? Lets look at another plot to get more insights.\nplot4 <- data.frame(table(df$left, df$number_project))\nggplot(plot4, aes(Var2, Freq, fill=Var1)) + geom_bar(stat=\"identity\") + xlab(\"No. of projects\") +\nylab(\"No. of people\") + labs(fill=\"Left\") + theme(axis.text.x=element_text(angle=90,hjust=1,vjust=0.5))",
      "execution_count": null,
      "outputs": [],
      "metadata": {}
    },
    {
      "cell_type": "code",
      "source": "# From the above graph, looks like chances of people staying with 2 projects is slim, \n# but what is happening at the last column? All the people who were working on 7 projects have left.",
      "execution_count": null,
      "outputs": [],
      "metadata": {}
    },
    {
      "cell_type": "code",
      "source": "plot5 <- data.frame(table(df$left, df$time_spend_company))\nggplot(plot5, aes(Var2, Freq, fill=Var1)) + geom_bar(stat=\"identity\") + xlab(\"Time\") +ylab(\"No. of people\") + labs(fill=\"Left\")",
      "execution_count": null,
      "outputs": [],
      "metadata": {}
    },
    {
      "cell_type": "code",
      "source": "# People who have spent a considerable amount of time have not left, as have the recent joinees.\n# Enough of bar plots.... let us make some scatter plots!\nggplot(df, aes(factor(time_spend_company), average_montly_hours)) +\n\t\tgeom_point(aes(color=factor(df$left)), position = \"jitter\") + \n\t\txlab(\"Time\") + ylab(\"Average_monthly_hrs\") + labs(color=\"Left\")",
      "execution_count": null,
      "outputs": [],
      "metadata": {}
    },
    {
      "cell_type": "code",
      "source": "ggplot(df, aes(factor(number_project), average_montly_hours)) + \n\t\tgeom_point(aes(color=factor(df$left)), position = \"jitter\") + \n\t\txlab(\"Projects\") + ylab(\"Average_monthly_hrs\") + labs(color=\"Left\")",
      "execution_count": null,
      "outputs": [],
      "metadata": {}
    },
    {
      "cell_type": "code",
      "source": "ggplot(df, aes(satisfaction_level, average_montly_hours)) +\n\t\tgeom_point(aes(color=factor(df$left)), position = 'jitter') + \n\t\txlab(\"Satisfaction_level\") + ylab(\"Average_monthly_hrs\") + labs(color=\"Left\")",
      "execution_count": null,
      "outputs": [],
      "metadata": {}
    },
    {
      "cell_type": "code",
      "source": "ggplot(df, aes(factor(number_project), satisfaction_level)) +\n\t\tgeom_point(aes(color=factor(df$left)), position = 'jitter') + \n\t\txlab(\"Projects\") + ylab(\"Satisfaction_level\") + labs(color=\"Left\")",
      "execution_count": null,
      "outputs": [],
      "metadata": {}
    },
    {
      "cell_type": "code",
      "source": "ggplot(df, aes(last_evaluation, average_montly_hours)) +\n\t\tgeom_point(aes(color=factor(df$left)), position = 'jitter') + \n\t\txlab(\"last_evaluation\") + ylab(\"Average_monthly_hrs\") + labs(color=\"Left\")",
      "execution_count": null,
      "outputs": [],
      "metadata": {}
    },
    {
      "cell_type": "code",
      "source": "# Good news... No more plots!\n# We can conclude that employees that are overworked and paid less will leave even after high evaluation.\n# However there is a cluster of employees who are not overworked, are leaving as well (or were they fired?).\n# The reason for this cannot be determined by existing data.",
      "execution_count": null,
      "outputs": [],
      "metadata": {}
    }
  ]
}